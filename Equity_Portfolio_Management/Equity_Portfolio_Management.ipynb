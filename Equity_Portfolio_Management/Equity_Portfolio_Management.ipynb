{
 "cells": [
  {
   "cell_type": "code",
   "execution_count": 1,
   "metadata": {},
   "outputs": [
    {
     "name": "stderr",
     "output_type": "stream",
     "text": [
      "Warning message:\n",
      "\"package 'tidyverse' was built under R version 3.6.3\"\n",
      "-- \u001b[1mAttaching packages\u001b[22m --------------------------------------- tidyverse 1.3.0 --\n",
      "\n",
      "\u001b[32mv\u001b[39m \u001b[34mggplot2\u001b[39m 3.3.0     \u001b[32mv\u001b[39m \u001b[34mpurrr  \u001b[39m 0.3.3\n",
      "\u001b[32mv\u001b[39m \u001b[34mtibble \u001b[39m 2.1.3     \u001b[32mv\u001b[39m \u001b[34mdplyr  \u001b[39m 0.8.4\n",
      "\u001b[32mv\u001b[39m \u001b[34mtidyr  \u001b[39m 1.0.2     \u001b[32mv\u001b[39m \u001b[34mstringr\u001b[39m 1.4.0\n",
      "\u001b[32mv\u001b[39m \u001b[34mreadr  \u001b[39m 1.3.1     \u001b[32mv\u001b[39m \u001b[34mforcats\u001b[39m 0.4.0\n",
      "\n",
      "Warning message:\n",
      "\"package 'ggplot2' was built under R version 3.6.3\"\n",
      "Warning message:\n",
      "\"package 'stringr' was built under R version 3.6.3\"\n",
      "-- \u001b[1mConflicts\u001b[22m ------------------------------------------ tidyverse_conflicts() --\n",
      "\u001b[31mx\u001b[39m \u001b[34mdplyr\u001b[39m::\u001b[32mfilter()\u001b[39m masks \u001b[34mstats\u001b[39m::filter()\n",
      "\u001b[31mx\u001b[39m \u001b[34mdplyr\u001b[39m::\u001b[32mlag()\u001b[39m    masks \u001b[34mstats\u001b[39m::lag()\n",
      "\n"
     ]
    }
   ],
   "source": [
    "library(tidyverse)\n",
    "library(dplyr)"
   ]
  },
  {
   "cell_type": "code",
   "execution_count": 3,
   "metadata": {},
   "outputs": [],
   "source": [
    "#LOAD THIS PART AGAIN WHEN YOU CHANGE THE STRATEGY, TO RESET ALL DATAFRAME VARIABLES.\n",
    "IBM   <- read.csv('IBM.csv')\n",
    "MSFT  <- read.csv('msft.csv')\n",
    "GOOG  <- read.csv('goog.csv')\n",
    "AAPL  <- read.csv('aapl.csv')\n",
    "AMZN  <- read.csv('amzn.csv')\n",
    "FB    <- read.csv('fb.csv')\n",
    "SAP   <- read.csv('SAP.csv')\n",
    "TSLA  <- read.csv('TSLA.csv')\n",
    "NFLX  <- read.csv('NFLX.csv')\n",
    "ORCL  <- read.csv('ORCL.csv')\n",
    "USD2JPY <- read.csv('USD_JPY_2018.csv')"
   ]
  },
  {
   "cell_type": "code",
   "execution_count": 4,
   "metadata": {},
   "outputs": [],
   "source": [
    "Calculations=data.frame(Date=1:251,c(0),c(0),c(0))\n",
    "colnames(Calculations)<-c(\"Date\",\"MTM\",\"HighTechIndex\",\"Temp_Divdident\")"
   ]
  },
  {
   "cell_type": "code",
   "execution_count": 5,
   "metadata": {},
   "outputs": [],
   "source": [
    "Universe = data.frame(Date=1:251,IBM_Close=IBM$Close,IBM_Adj.Close=IBM$Adj.Close,MSFT_Close=MSFT$Close,MSFT_Adj.Close=MSFT$Adj.Close,GOOG_Close=GOOG$Close,GOOG_Adj.Close=GOOG$Adj.Close,AAPL_Close=AAPL$Close,AAPL_Adj.Close=AAPL$Adj.Close,AMZN_Close=AMZN$Close,AMZN_Adj.Close=AMZN$Adj.Close,FB_Close=FB$Close,FB_Adj.Close=FB$Adj.Close,NFLX_Close=NFLX$Close,NFLX_Adj.Close=NFLX$Adj.Close,TSLA_Close=TSLA$Close,TSLA_Adj.Close=TSLA$Adj.Close,ORCL_Close=ORCL$Close,ORCL_Adj.Close=ORCL$Adj.Close,SAP_Close=SAP$Close,SAP_Adj.Close=SAP$Adj.Close)\n",
    "row.names(Universe)<-1:251"
   ]
  },
  {
   "cell_type": "code",
   "execution_count": 6,
   "metadata": {},
   "outputs": [],
   "source": [
    "Calculations$HighTechIndex = rowMeans(Universe[,c(2,4,6,8,10,12,14,16,18,20)])"
   ]
  },
  {
   "cell_type": "code",
   "execution_count": 7,
   "metadata": {},
   "outputs": [],
   "source": [
    "CurrentHolding<-data.frame(c('IBM','MSFT','GOOG','AAPL','AMZN','FB','NFLX','TSLA','ORCL','SAP'),c(0),c(0))\n",
    "colnames(CurrentHolding)<-c(\"Name\",\"Quantity\",\"ChangeinPercent\")\n",
    "CurrentCash = 5000000"
   ]
  },
  {
   "cell_type": "code",
   "execution_count": 8,
   "metadata": {},
   "outputs": [
    {
     "name": "stdout",
     "output_type": "stream",
     "text": [
      "   Name Quantity ChangeinPercent\n",
      "1   IBM        0               0\n",
      "2  MSFT        0               0\n",
      "3  GOOG        0               0\n",
      "4  AAPL        0               0\n",
      "5  AMZN        0               0\n",
      "6    FB        0               0\n",
      "7  NFLX        0               0\n",
      "8  TSLA        0               0\n",
      "9  ORCL        0               0\n",
      "10  SAP        0               0\n"
     ]
    }
   ],
   "source": [
    "print(CurrentHolding)"
   ]
  },
  {
   "cell_type": "markdown",
   "metadata": {},
   "source": [
    "# CODE FOR HIGH REBALANCING STRATEGY"
   ]
  },
  {
   "cell_type": "code",
   "execution_count": 10,
   "metadata": {},
   "outputs": [
    {
     "name": "stdout",
     "output_type": "stream",
     "text": [
      "[1] \"You got a divident of 4287.15 dollors for AAPL 's 6805 shares\"\n",
      "[1] \"You got a divident of 4369.05 dollors for AAPL 's 5985 shares\"\n",
      "[1] \"You got a divident of 4895.52 dollors for MSFT 's 11656 shares\"\n",
      "[1] \"You got a divident of 4496.07 dollors for AAPL 's 6159 shares\"\n",
      "[1] \"You got a divident of 4799.76 dollors for MSFT 's 11428 shares\"\n",
      "[1] \"You got a divident of 14244.61 dollors for IBM 's 9073 shares\"\n",
      "[1] \"You got a divident of 4653.82 dollors for MSFT 's 10117 shares\"\n"
     ]
    }
   ],
   "source": [
    "#CODE FOR HIGH REBALANCING STRATEGY\n",
    "\n",
    "for (i in seq(1, 251, by=5)){\n",
    "  j=i\n",
    "  l=i\n",
    "  CurrentDate <- i\n",
    "  \n",
    "  for (val in CurrentHolding$Name[1:5]){\n",
    "    #SELL\n",
    "    colname <- paste(val,'_Close',sep = \"\")\n",
    "    CurrentCash<-CurrentCash+(Universe[Universe$Date ==CurrentDate,match(colname,names(Universe))])*(CurrentHolding$Quantity[CurrentHolding$Name==val])\n",
    "    CurrentHolding$Quantity[CurrentHolding$Name==val] <- 0\n",
    "  }\n",
    "  \n",
    "  if (CurrentDate>5) {\n",
    "    \n",
    "    for (value in CurrentHolding$Name) {\n",
    "      #Rebalancing\n",
    "      colname <- paste(value,'_Adj.Close',sep=\"\")\n",
    "      CurrentHolding$ChangeinPercent[CurrentHolding$Name==value] <- ( (Universe[Universe$Date==CurrentDate,match(colname,names(Universe))]) - (Universe[Universe$Date==CurrentDate-5,match(colname,names(Universe))]) ) / (Universe[Universe$Date==CurrentDate-5,match(colname,names(Universe))]) * 100\n",
    "    }\n",
    "  }\n",
    "  \n",
    "  CurrentHolding <- CurrentHolding[order(-CurrentHolding$ChangeinPercent),]\n",
    "  chillar=0\n",
    "  CashforeachStock<-CurrentCash/5\n",
    "  CurrentCash=0\n",
    "  \n",
    "  for(val in CurrentHolding$Name[1:5]){\n",
    "    #BUY\n",
    "    colname <- paste(val,'_Close',sep=\"\")\n",
    "    CurrentHolding$Quantity[CurrentHolding$Name==val] = CashforeachStock %/% (Universe[Universe$Date == CurrentDate,match(colname,names(Universe))])\n",
    "    chillar <- CashforeachStock %% (Universe[Universe$Date == CurrentDate,match(colname,names(Universe))])\n",
    "    CurrentCash <- chillar+CurrentCash\n",
    "  }\n",
    "\n",
    "  if(i<246){\n",
    "    for(l in seq(l,l+4, by=1)){\n",
    "      for(valu in CurrentHolding$Name[1:5]){\n",
    "        colname1 <- paste(valu,'_Close',sep=\"\")\n",
    "        Calculations$MTM[Calculations$Date==l]=Calculations$MTM[Calculations$Date==l]+Universe[Universe$Date==l,match(colname1,names(Universe))]*(CurrentHolding$Quantity[CurrentHolding$Name==valu])\n",
    "      }\n",
    "    }\n",
    "    Calculations$MTM[Calculations$Date==j]=Calculations$MTM[Calculations$Date==j]+CurrentCash\n",
    "    for (j in seq(j+1,j+5, by=1)) {\n",
    "      CurrentDate=j\n",
    "      for(valu in CurrentHolding$Name[1:5]){\n",
    "        #print(CurrentHolding$Name[1:3])\n",
    "        colname1 <- paste(valu,'_Close',sep=\"\")\n",
    "        colname2 <- paste(valu,'_Adj.Close',sep=\"\")\n",
    "        Calculations$Temp_Divdident[Calculations$Date==j] = round( Universe[Universe$Date==CurrentDate,match(colname1,names(Universe))] * abs((Universe[Universe$Date==CurrentDate-1,match(colname2,names(Universe))]) / (Universe[Universe$Date==CurrentDate,match(colname2,names(Universe))])  - (Universe[Universe$Date==CurrentDate-1,match(colname1,names(Universe))]) / (Universe[Universe$Date==CurrentDate,match(colname1,names(Universe))]) ) , digits =2 )\n",
    "        CurrentCash=CurrentCash+Calculations$Temp_Divdident[Calculations$Date==j]*(CurrentHolding$Quantity[CurrentHolding$Name==valu]) \n",
    "        if(Calculations$Temp_Divdident[Calculations$Date==j]>0.2){\n",
    "          print(paste(\"You got a divident of\", Calculations$Temp_Divdident[Calculations$Date==j] *(CurrentHolding$Quantity[CurrentHolding$Name==valu]),\"dollors for\",valu,\"'s\",(CurrentHolding$Quantity[CurrentHolding$Name==valu]),\"shares\"))\n",
    "        }\n",
    "      }\n",
    "    }\n",
    "  }\n",
    "  if(i==246){\n",
    "    for(l in seq(246,251, by=1)){\n",
    "      z = c(Universe$IBM_Close,Universe$MSFT_Close,Universe$GOOG_Close,Universe$AAPL_Close,Universe$AMZN_Close,Universe$FB_Close, Universe$NFLX_Close, Universe$TSLA_Close, Universe$ORCL_Close, Universe$SAP_Close)\n",
    "      for(valu in CurrentHolding$Name[1:5]){\n",
    "        colname1 <- paste(valu,'_Close',sep=\"\")\n",
    "        Calculations$MTM[Calculations$Date==l]=Calculations$MTM[Calculations$Date==l]+Universe[Universe$Date==l,match(colname1,names(Universe))]*(CurrentHolding$Quantity[CurrentHolding$Name==valu])\n",
    "      }\n",
    "    }\n",
    "    Calculations$MTM[Calculations$Date==l]=Calculations$MTM[Calculations$Date==l]+CurrentCash\n",
    "    \n",
    "    for(j in seq(247,251, by=1)) {\n",
    "      for(valu in CurrentHolding$Name[1:5]){\n",
    "        colname1 <- paste(valu,'_Close',sep=\"\")\n",
    "        colname2 <- paste(valu,'_Adj.Close',sep=\"\")\n",
    "        Calculations$Temp_Divdident[Calculations$Date==j] = round( Universe[Universe$Date==CurrentDate,match(colname1,names(Universe))] * abs((Universe[Universe$Date==CurrentDate-1,match(colname2,names(Universe))]) / (Universe[Universe$Date==CurrentDate,match(colname2,names(Universe))])  - (Universe[Universe$Date==CurrentDate-1,match(colname1,names(Universe))]) / (Universe[Universe$Date==CurrentDate,match(colname1,names(Universe))]) ) , digits =2 )\n",
    "        CurrentCash=CurrentCash+Calculations$Temp_Divdident[Calculations$Date==j]*(CurrentHolding$Quantity[CurrentHolding$Name==valu])\n",
    "     }\n",
    "    }\n",
    "   } \n",
    "}\n",
    "\n"
   ]
  },
  {
   "cell_type": "code",
   "execution_count": 11,
   "metadata": {},
   "outputs": [
    {
     "name": "stdout",
     "output_type": "stream",
     "text": [
      "   Name Quantity ChangeinPercent\n",
      "5  AMZN      646        9.039894\n",
      "7  NFLX     3629        8.632658\n",
      "3  GOOG      938        5.724116\n",
      "6    FB     7410        4.913965\n",
      "4  AAPL     6158        4.650717\n",
      "8  TSLA        0        4.074804\n",
      "10  SAP        0        3.546915\n",
      "2  MSFT        0        3.400177\n",
      "9  ORCL        0        2.613634\n",
      "1   IBM        0        2.460782\n"
     ]
    }
   ],
   "source": [
    "print(CurrentHolding)\n",
    "#Final Sell on last day of the year\n",
    "for (val in CurrentHolding$Name[1:5]){\n",
    "  #SELL\n",
    "  colname <- paste(val,'_Close',sep = \"\")\n",
    "  CurrentCash<-CurrentCash+(Universe[Universe$Date ==CurrentDate,match(colname,names(Universe))])*(CurrentHolding$Quantity[CurrentHolding$Name==val])\n",
    "  CurrentHolding$Quantity[CurrentHolding$Name==val] <- 0\n",
    "}\n"
   ]
  },
  {
   "cell_type": "code",
   "execution_count": 12,
   "metadata": {},
   "outputs": [
    {
     "name": "stdout",
     "output_type": "stream",
     "text": [
      "[1] \"After High Rebalancing strategy you have 4857072.855778 DOLLARS\"\n"
     ]
    },
    {
     "data": {
      "image/png": "[encoded data removed]",
      "text/plain": [
       "plot without title"
      ]
     },
     "metadata": {
      "image/png": {
       "height": 420,
       "width": 420
      },
      "text/plain": {
       "height": 420,
       "width": 420
      }
     },
     "output_type": "display_data"
    }
   ],
   "source": [
    "print(paste(\"After High Rebalancing strategy you have\",CurrentCash,\"DOLLARS\"))\n",
    "ggplot(Calculations, aes(HighTechIndex,MTM)) + geom_line()\n",
    "#USD to JPY Calculation \n",
    "high <- list(unlist(Calculations$MTM)*unlist(USD2JPY$value))\n"
   ]
  },
  {
   "cell_type": "markdown",
   "metadata": {},
   "source": [
    "# CODE FOR LOW REBALANCING STRATEGY\n"
   ]
  },
  {
   "cell_type": "code",
   "execution_count": 13,
   "metadata": {},
   "outputs": [
    {
     "name": "stdout",
     "output_type": "stream",
     "text": [
      "[1] \"You got a divident of 9612 dollors for IBM 's 6408 shares\"\n",
      "[1] \"You got a divident of 4620.42 dollors for MSFT 's 11001 shares\"\n",
      "[1] \"You got a divident of 11384.07 dollors for IBM 's 7251 shares\"\n",
      "[1] \"You got a divident of 15851.99 dollors for SAP 's 9163 shares\"\n",
      "[1] \"You got a divident of 12189.48 dollors for IBM 's 7764 shares\"\n",
      "[1] \"You got a divident of 3990.18 dollors for AAPL 's 5466 shares\"\n"
     ]
    }
   ],
   "source": [
    "for (i in seq(1, 251, by=5)){\n",
    "  j=i\n",
    "  l=i\n",
    "  CurrentDate <- i\n",
    "  \n",
    "  for (val in CurrentHolding$Name[1:5]){\n",
    "    #SELL\n",
    "    colname <- paste(val,'_Close',sep = \"\")\n",
    "    CurrentCash<-CurrentCash+(Universe[Universe$Date ==CurrentDate,match(colname,names(Universe))])*(CurrentHolding$Quantity[CurrentHolding$Name==val])\n",
    "    CurrentHolding$Quantity[CurrentHolding$Name==val] <- 0\n",
    "  }\n",
    "  \n",
    "  if (CurrentDate>5) {\n",
    "    \n",
    "    for (value in CurrentHolding$Name) {\n",
    "      #Rebalancing\n",
    "      colname <- paste(value,'_Adj.Close',sep=\"\")\n",
    "      CurrentHolding$ChangeinPercent[CurrentHolding$Name==value] <- ( (Universe[Universe$Date==CurrentDate,match(colname,names(Universe))]) - (Universe[Universe$Date==CurrentDate-5,match(colname,names(Universe))]) ) / (Universe[Universe$Date==CurrentDate-5,match(colname,names(Universe))]) * 100\n",
    "    }\n",
    "  }\n",
    "  \n",
    "  CurrentHolding <- CurrentHolding[order(CurrentHolding$ChangeinPercent),]\n",
    "  chillar=0\n",
    "  CashforeachStock<-CurrentCash/5\n",
    "  CurrentCash=0\n",
    "  \n",
    "  for(val in CurrentHolding$Name[1:5]){\n",
    "    #BUY\n",
    "    colname <- paste(val,'_Close',sep=\"\")\n",
    "    CurrentHolding$Quantity[CurrentHolding$Name==val] = CashforeachStock %/% (Universe[Universe$Date == CurrentDate,match(colname,names(Universe))])\n",
    "    chillar <- CashforeachStock %% (Universe[Universe$Date == CurrentDate,match(colname,names(Universe))])\n",
    "    CurrentCash <- chillar+CurrentCash\n",
    "  }\n",
    "\n",
    "  if(i<246){\n",
    "    for(l in seq(l,l+4, by=1)){\n",
    "      for(valu in CurrentHolding$Name[1:5]){\n",
    "        colname1 <- paste(valu,'_Close',sep=\"\")\n",
    "        Calculations$MTM[Calculations$Date==l]=Calculations$MTM[Calculations$Date==l]+Universe[Universe$Date==l,match(colname1,names(Universe))]*(CurrentHolding$Quantity[CurrentHolding$Name==valu])\n",
    "      }\n",
    "    }\n",
    "    Calculations$MTM[Calculations$Date==j]=Calculations$MTM[Calculations$Date==j]+CurrentCash\n",
    "    for (j in seq(j+1,j+5, by=1)) {\n",
    "      CurrentDate=j\n",
    "      for(valu in CurrentHolding$Name[1:5]){\n",
    "        colname1 <- paste(valu,'_Close',sep=\"\")\n",
    "        colname2 <- paste(valu,'_Adj.Close',sep=\"\")\n",
    "        Calculations$Temp_Divdident[Calculations$Date==j] = round( Universe[Universe$Date==CurrentDate,match(colname1,names(Universe))] * abs((Universe[Universe$Date==CurrentDate-1,match(colname2,names(Universe))]) / (Universe[Universe$Date==CurrentDate,match(colname2,names(Universe))])  - (Universe[Universe$Date==CurrentDate-1,match(colname1,names(Universe))]) / (Universe[Universe$Date==CurrentDate,match(colname1,names(Universe))]) ) , digits =2 )\n",
    "        CurrentCash=CurrentCash+Calculations$Temp_Divdident[Calculations$Date==j]*(CurrentHolding$Quantity[CurrentHolding$Name==valu]) \n",
    "        if(Calculations$Temp_Divdident[Calculations$Date==j]>0.2){\n",
    "          print(paste(\"You got a divident of\", Calculations$Temp_Divdident[Calculations$Date==j] *(CurrentHolding$Quantity[CurrentHolding$Name==valu]),\"dollors for\",valu,\"'s\",(CurrentHolding$Quantity[CurrentHolding$Name==valu]),\"shares\"))\n",
    "        }\n",
    "      }\n",
    "    }\n",
    "  }\n",
    "  if(i==246){\n",
    "    for(l in seq(246,251, by=1)){\n",
    "      z = c(Universe$IBM_Close,Universe$MSFT_Close,Universe$GOOG_Close,Universe$AAPL_Close,Universe$AMZN_Close,Universe$FB_Close, Universe$NFLX_Close, Universe$TSLA_Close, Universe$ORCL_Close, Universe$SAP_Close)\n",
    "      for(valu in CurrentHolding$Name[1:5]){\n",
    "        colname1 <- paste(valu,'_Close',sep=\"\")\n",
    "        Calculations$MTM[Calculations$Date==l]=Calculations$MTM[Calculations$Date==l]+Universe[Universe$Date==l,match(colname1,names(Universe))]*(CurrentHolding$Quantity[CurrentHolding$Name==valu])\n",
    "      }\n",
    "    }\n",
    "    Calculations$MTM[Calculations$Date==l]=Calculations$MTM[Calculations$Date==l]+CurrentCash\n",
    "    \n",
    "    for(j in seq(247,251, by=1)) {\n",
    "      for(valu in CurrentHolding$Name[1:5]){\n",
    "        colname1 <- paste(valu,'_Close',sep=\"\")\n",
    "        colname2 <- paste(valu,'_Adj.Close',sep=\"\")\n",
    "        Calculations$Temp_Divdident[Calculations$Date==j] = round( Universe[Universe$Date==CurrentDate,match(colname1,names(Universe))] * abs((Universe[Universe$Date==CurrentDate-1,match(colname2,names(Universe))]) / (Universe[Universe$Date==CurrentDate,match(colname2,names(Universe))])  - (Universe[Universe$Date==CurrentDate-1,match(colname1,names(Universe))]) / (Universe[Universe$Date==CurrentDate,match(colname1,names(Universe))]) ) , digits =2 )\n",
    "        CurrentCash=CurrentCash+Calculations$Temp_Divdident[Calculations$Date==j]*(CurrentHolding$Quantity[CurrentHolding$Name==valu])\n",
    "     }\n",
    "    }\n",
    "   } \n",
    "}"
   ]
  },
  {
   "cell_type": "code",
   "execution_count": 14,
   "metadata": {},
   "outputs": [
    {
     "name": "stdout",
     "output_type": "stream",
     "text": [
      "   Name Quantity ChangeinPercent\n",
      "1   IBM     9203        2.460782\n",
      "9  ORCL    23171        2.613634\n",
      "2  MSFT    10300        3.400177\n",
      "10  SAP    10509        3.546915\n",
      "8  TSLA     3143        4.074804\n",
      "4  AAPL        0        4.650717\n",
      "6    FB        0        4.913965\n",
      "3  GOOG        0        5.724116\n",
      "7  NFLX        0        8.632658\n",
      "5  AMZN        0        9.039894\n"
     ]
    }
   ],
   "source": [
    "print(CurrentHolding)\n",
    "#Final Sell on last day of the year\n",
    "for (val in CurrentHolding$Name[1:5]){\n",
    "  #SELL\n",
    "  colname <- paste(val,'_Close',sep = \"\")\n",
    "  CurrentCash<-CurrentCash+(Universe[Universe$Date ==CurrentDate,match(colname,names(Universe))])*(CurrentHolding$Quantity[CurrentHolding$Name==val])\n",
    "  CurrentHolding$Quantity[CurrentHolding$Name==val] <- 0\n",
    "}"
   ]
  },
  {
   "cell_type": "code",
   "execution_count": 15,
   "metadata": {},
   "outputs": [
    {
     "name": "stdout",
     "output_type": "stream",
     "text": [
      "[1] \"After LOW Rebalancing strategy you have 5230969.64234599 DOLLARS\"\n"
     ]
    },
    {
     "data": {
      "image/png": "[encoded data removed]",
      "text/plain": [
       "plot without title"
      ]
     },
     "metadata": {
      "image/png": {
       "height": 420,
       "width": 420
      },
      "text/plain": {
       "height": 420,
       "width": 420
      }
     },
     "output_type": "display_data"
    }
   ],
   "source": [
    "print(paste(\"After LOW Rebalancing strategy you have\",CurrentCash,\"DOLLARS\"))\n",
    "ggplot(Calculations, aes(HighTechIndex,MTM)) + geom_line()"
   ]
  },
  {
   "cell_type": "markdown",
   "metadata": {},
   "source": [
    "# USD to JPY Calculation"
   ]
  },
  {
   "cell_type": "code",
   "execution_count": 21,
   "metadata": {},
   "outputs": [],
   "source": [
    "low <- list(unlist(Calculations$MTM)*unlist(USD2JPY$value))"
   ]
  },
  {
   "cell_type": "code",
   "execution_count": null,
   "metadata": {},
   "outputs": [],
   "source": []
  }
 ],
 "metadata": {
  "kernelspec": {
   "display_name": "R",
   "language": "R",
   "name": "ir"
  },
  "language_info": {
   "codemirror_mode": "r",
   "file_extension": ".r",
   "mimetype": "text/x-r-source",
   "name": "R",
   "pygments_lexer": "r",
   "version": "3.6.2"
  }
 },
 "nbformat": 4,
 "nbformat_minor": 2
}
